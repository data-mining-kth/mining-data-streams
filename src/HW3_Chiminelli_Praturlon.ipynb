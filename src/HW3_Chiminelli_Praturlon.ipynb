{
 "cells": [
  {
   "cell_type": "markdown",
   "metadata": {
    "id": "EOIaEvWVUKFp"
   },
   "source": [
    "# ID2222 Data Mining, Homework 3\n",
    "# **Mining Data Streams**\n",
    "\n",
    "Brando Chiminelli, Tommaso Praturlon\n",
    "\n",
    "November 28th, 2022"
   ]
  },
  {
   "cell_type": "markdown",
   "metadata": {
    "id": "0PqOxlll3C1p"
   },
   "source": [
    "## Goal\n",
    "The goal of this notebook is to "
   ]
  },
  {
   "cell_type": "markdown",
   "metadata": {
    "id": "35iKgnWG3C1q"
   },
   "source": [
    "## How to run\n",
    "\n",
    "In order to run this notebook you need to "
   ]
  },
  {
   "cell_type": "markdown",
   "metadata": {
    "id": "6GM40ygli7Q3"
   },
   "source": [
    "## Import libraries and read the dataset\n",
    "In the following we import the few libraries needed for the project and we read the dataset.\n",
    "\n",
    "We decided to read the first 2000 baskets from the dataset in order to reduce weight on memory. Our assumption is that items are uniformly distributed across the dataset, thus allowing us to have a good insight only from the given sample."
   ]
  },
  {
   "cell_type": "code",
   "execution_count": 47,
   "metadata": {
    "colab": {
     "base_uri": "https://localhost:8080/"
    },
    "executionInfo": {
     "elapsed": 292,
     "status": "ok",
     "timestamp": 1669145043831,
     "user": {
      "displayName": "Tommaso Praturlon",
      "userId": "14876307488286215212"
     },
     "user_tz": -60
    },
    "id": "zQlgKVYLlywG",
    "outputId": "df8fe523-9172-4ca3-abcf-8a2f83d92af6"
   },
   "outputs": [
    {
     "name": "stdout",
     "output_type": "stream",
     "text": [
      "Data read successfully!\n",
      "     0\n",
      "0  0 1\n",
      "1  0 2\n",
      "2  0 3\n",
      "3  0 4\n",
      "4  0 5\n",
      "Number of rows:  88234\n"
     ]
    }
   ],
   "source": [
    "import pandas as pd\n",
    "import matplotlib.pyplot as plt\n",
    "from collections import Counter\n",
    "from itertools import combinations\n",
    "import statistics\n",
    "import math\n",
    "\n",
    "#PATH_TO_DATA = \"../data/web-Stanford.txt\"\n",
    "PATH_TO_DATA = \"../data/facebook_combined.txt\"\n",
    "df_graphs = pd.read_csv(PATH_TO_DATA, header=None)\n",
    "print(\"Data read successfully!\")\n",
    "\n",
    "# Reduce dataset size for computation overload (temporary)\n",
    "#df_graphs = df_graphs.iloc[0:50000]\n",
    "print(df_graphs.head())\n",
    "print(\"Number of rows: \", len(df_graphs))"
   ]
  },
  {
   "cell_type": "code",
   "execution_count": 48,
   "metadata": {},
   "outputs": [],
   "source": [
    "# DATA WRANGLING FACEBOOK\n",
    "# 1. remove text rows from dataset\n",
    "# 2. create a dataset of integers\n",
    "df_g = df_graphs\n",
    "data = []\n",
    "for i in range(len(df_g)):\n",
    "# for i in range(10):\n",
    "    # make the two elements a tuple\n",
    "    s = tuple(str(df_g.iloc[i][0]).split(' '))\n",
    "    # s = [int(x) for x in str(df_g.iloc[i][0]).split(' ')]\n",
    "    data.append(s)\n",
    "    \n",
    "#print(data)"
   ]
  },
  {
   "cell_type": "code",
   "execution_count": 68,
   "metadata": {},
   "outputs": [],
   "source": [
    "# DATA WRANGLING STANFORD\n",
    "# 1. remove text rows from dataset\n",
    "# 2. create a dataset of integers\n",
    "df_g = df_graphs.drop([0, 1, 2, 3, 4])\n",
    "data = []\n",
    "for i in range(len(df_g)):\n",
    "    s = [int(x) for x in str(df_g.iloc[i][0]).split('\\t')]\n",
    "    #s = str(df_g.iloc[i][0]).split('\\t')\n",
    "    data.append(s)\n",
    "#print(data)"
   ]
  },
  {
   "cell_type": "code",
   "execution_count": 49,
   "metadata": {},
   "outputs": [],
   "source": [
    "####################################\n",
    "# TRIEST-BASE CLASS IMPLEMENTATION #\n",
    "####################################\n",
    "import random\n",
    "import numpy as np\n",
    "import matplotlib.pyplot as plt\n",
    "\n",
    "class TriestBase:\n",
    "    '''\n",
    "    Implementation of the Trièst-base algorithm\n",
    "    - function SampleEdge\n",
    "    - function UpdateCounter\n",
    "    - function FlipBiasedCoin\n",
    "    '''\n",
    "    \n",
    "    def __init__(self,M):\n",
    "        self._M = M\n",
    "        self._tau = 0\n",
    "        self._tau_loc = {}\n",
    "        self._t = 0\n",
    "        self._S = set()\n",
    "        self._tau_ls = []\n",
    "    \n",
    "    #M = 6\n",
    "    \n",
    "    def flipBiasedCoin(self, M, t):\n",
    "    # def flipBiasedCoin(self):\n",
    "        '''\n",
    "        Flip a biased coin with probability M/t of falling head.\n",
    "        '''\n",
    "        \n",
    "        # import numpy as np\n",
    "        # 1: head, 0: tail\n",
    "        result = np.random.choice([1, 0], p=[M/t, (1-M/t)])\n",
    "        #print(f\"Result: {result}, M/t: {M/t}\")\n",
    "        if result:\n",
    "            return True\n",
    "        else:\n",
    "            return False\n",
    "        \n",
    "        '''\n",
    "        head_prob = random.random()\n",
    "\n",
    "        if head_prob <= self._M/self._t:\n",
    "            return True\n",
    "        else:\n",
    "            return False\n",
    "        '''\n",
    "    \n",
    "    def sampleEdge(self, edge, t):\n",
    "        '''\n",
    "        Receives the edge (u,v) as [u, v] and time t at which\n",
    "        the stream element is received. t is a count integer.\n",
    "        Returns a boolean\n",
    "        '''\n",
    "        #import random\n",
    "        \n",
    "        if (t <= self._M):\n",
    "            #print(f\"t: {self._t}, M: {self._M}\")\n",
    "            return True\n",
    "        elif self.flipBiasedCoin(self._M, t):\n",
    "        # elif self.flipBiasedCoin():\n",
    "            # select random edge from S\n",
    "            # random_edge = random.choice(self._S)\n",
    "            random_edge = random.sample(self._S, 1)[0]\n",
    "            # Delete random_edge from S\n",
    "            self._S.remove(random_edge)\n",
    "            # Update counters\n",
    "            self.updateCounters('delete', random_edge)\n",
    "            #print(\"Deleted.\")\n",
    "            return True\n",
    "        else:\n",
    "            return False\n",
    "            \n",
    "    def updateCounters(self, operation, edge):\n",
    "        '''\n",
    "        Receives the operation insertion or deletion\n",
    "        and the edge.\n",
    "        tau is the global counter\n",
    "        e.g S = [[5,10], [10, 3], [12, 5], [12, 3]]\n",
    "        edge = (5, 12)\n",
    "        N_5 = (10, 12)\n",
    "        N_12 = (5, 3)\n",
    "        N_5_12 = (5, 12)\n",
    "        '''\n",
    "        # Define shared-neighborhood\n",
    "        shared_neigh = set()\n",
    "        neigh_u = set() # all neighbors of edge[0]\n",
    "        neigh_v = set() # all nneighbors of edge[1]\n",
    "        #print(\"S from updateCounters():\\n\", S)\n",
    "        #print(\"_S:\\n\", self._S)\n",
    "        u = edge[0]\n",
    "        v = edge[1]\n",
    "        for elem in self._S:\n",
    "            # check that for the v in V_t (u,v) belongs to S\n",
    "            # create neigh_u\n",
    "            if u == elem[0]: # found u in position 0\n",
    "                neigh_u.add(elem[1]) # add the other element\n",
    "            if u == elem[1]: # found u in position 1\n",
    "                neigh_u.add(elem[0]) # add the other element\n",
    "            # create neigh_v\n",
    "            if v == elem[0]: # found v in position 0\n",
    "                neigh_v.add(elem[1]) \n",
    "            if v == elem[1]: # found v in position 1\n",
    "                neigh_v.add(elem[0])\n",
    "        # shared neighbourhood is the intersection between the sets\n",
    "        shared_neigh = set.intersection(neigh_u, neigh_v)\n",
    "        self._tau_ls.append(self._tau)\n",
    "        if operation == 'insert':\n",
    "            # Insert\n",
    "            for c in shared_neigh:\n",
    "                self._tau += 1\n",
    "                self._tau_loc[c] = self._tau_loc.get(c, 0) + 1\n",
    "                self._tau_loc[u] = self._tau_loc.get(u, 0) + 1\n",
    "                self._tau_loc[v] = self._tau_loc.get(v, 0) + 1\n",
    "        else:\n",
    "            # Delete\n",
    "            for c in shared_neigh:\n",
    "                self._tau -= 1\n",
    "                self._tau_loc[c] = self._tau_loc.get(c, 0) - 1\n",
    "                if self._tau_loc[c] <= 0:\n",
    "                    del self._tau_loc[c]\n",
    "                self._tau_loc[u] = self._tau_loc.get(u, 0) - 1\n",
    "                if self._tau_loc[edge[0]] <= 0:\n",
    "                    del self._tau_loc[u]\n",
    "                self._tau_loc[v] = self._tau_loc.get(v, 0) - 1\n",
    "                if self._tau_loc[v] <= 0:\n",
    "                    del self._tau_loc[v]\n",
    "        \n",
    "                    \n",
    "    def run_triest(self, data):\n",
    "        print(\"Number of edges: \", len(data))\n",
    "        for edge in data:\n",
    "            self._t += 1\n",
    "            if self.sampleEdge(edge, self._t):\n",
    "                # self._S.append(edge)\n",
    "                self._S.add(edge)\n",
    "                #print(\"S before update counters: \\n\", S)\n",
    "                self.updateCounters('insert', edge)\n",
    "                #print(\"S after update counters: \\n\", S)\n",
    "                #print(\"Tau: \", tau)\n",
    "                \n",
    "        # Return counters\n",
    "        eps = max(1, (self._t * (self._t - 1) * (self._t - 2))/(self._M * (self._M - 1) * (self._M - 2)))\n",
    "        print(\"tau: \", self._tau)\n",
    "        print(\"eps: \", eps)\n",
    "        est_tri = self._tau*eps\n",
    "        print(\"Estimated triangles: \", est_tri)\n",
    "        plt.plot(range(len(self._tau_ls)), self._tau_ls)\n",
    "        #plt.axis([3800, 5200, 3800, 5200])\n",
    "        plt.show()"
   ]
  },
  {
   "cell_type": "code",
   "execution_count": 50,
   "metadata": {},
   "outputs": [
    {
     "name": "stdout",
     "output_type": "stream",
     "text": [
      "Number of edges:  88234\n"
     ]
    },
    {
     "name": "stderr",
     "output_type": "stream",
     "text": [
      "/var/folders/2g/1dtcpmr112351l64hg7jwb1c0000gn/T/ipykernel_521/1453554663.py:65: DeprecationWarning: Sampling from a set deprecated\n",
      "since Python 3.9 and will be removed in a subsequent version.\n",
      "  random_edge = random.sample(self._S, 1)[0]\n"
     ]
    },
    {
     "name": "stdout",
     "output_type": "stream",
     "text": [
      "tau:  788\n",
      "eps:  2003.4807127497033\n",
      "Estimated triangles:  1578742.8016467663\n"
     ]
    },
    {
     "data": {
      "image/png": "[encoded data removed]",
      "text/plain": [
       "<Figure size 640x480 with 1 Axes>"
      ]
     },
     "metadata": {},
     "output_type": "display_data"
    }
   ],
   "source": [
    "# EXPLOITING THE CLASS TRIEST-BASE\n",
    "TriestBase(7000).run_triest(data)"
   ]
  },
  {
   "cell_type": "code",
   "execution_count": 7,
   "metadata": {
    "colab": {
     "base_uri": "https://localhost:8080/",
     "height": 279
    },
    "executionInfo": {
     "elapsed": 954,
     "status": "ok",
     "timestamp": 1669145064318,
     "user": {
      "displayName": "Tommaso Praturlon",
      "userId": "14876307488286215212"
     },
     "user_tz": -60
    },
    "id": "S2F_AwI2i7Q_",
    "outputId": "bdcf0770-93b3-485e-fbfb-a78673035ee4"
   },
   "outputs": [
    {
     "data": {
      "text/plain": [
       "\"\\ncnt = Counter(C_1.values())\\nplt.bar(cnt.keys(), cnt.values())\\n\\nplt.xlabel('Frequency')\\nplt.ylabel('Number of documents with that frequency')\\nplt.show()\\n\""
      ]
     },
     "execution_count": 7,
     "metadata": {},
     "output_type": "execute_result"
    }
   ],
   "source": [
    "# Graphs and statistics \n",
    "import matplotlib.pyplot as plt\n",
    "from collections import Counter\n",
    "'''\n",
    "cnt = Counter(C_1.values())\n",
    "plt.bar(cnt.keys(), cnt.values())\n",
    "\n",
    "plt.xlabel('Frequency')\n",
    "plt.ylabel('Number of documents with that frequency')\n",
    "plt.show()\n",
    "'''"
   ]
  }
 ],
 "metadata": {
  "colab": {
   "name": "",
   "version": ""
  },
  "kernelspec": {
   "display_name": "Python 3 (ipykernel)",
   "language": "python",
   "name": "python3"
  },
  "language_info": {
   "codemirror_mode": {
    "name": "ipython",
    "version": 3
   },
   "file_extension": ".py",
   "mimetype": "text/x-python",
   "name": "python",
   "nbconvert_exporter": "python",
   "pygments_lexer": "ipython3",
   "version": "3.8.10"
  },
  "vscode": {
   "interpreter": {
    "hash": "b0fa6594d8f4cbf19f97940f81e996739fb7646882a419484c72d19e05852a7e"
   }
  }
 },
 "nbformat": 4,
 "nbformat_minor": 1
}
