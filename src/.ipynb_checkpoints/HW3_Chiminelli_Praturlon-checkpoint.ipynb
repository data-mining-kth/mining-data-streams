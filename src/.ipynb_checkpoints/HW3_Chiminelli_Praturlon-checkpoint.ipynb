{
 "cells": [
  {
   "cell_type": "markdown",
   "metadata": {
    "id": "EOIaEvWVUKFp"
   },
   "source": [
    "# ID2222 Data Mining, Homework 3\n",
    "# **Mining Data Streams**\n",
    "\n",
    "Brando Chiminelli, Tommaso Praturlon\n",
    "\n",
    "November 28th, 2022"
   ]
  },
  {
   "cell_type": "markdown",
   "metadata": {
    "id": "0PqOxlll3C1p"
   },
   "source": [
    "## Goal\n",
    "The goal of this notebook is to "
   ]
  },
  {
   "cell_type": "markdown",
   "metadata": {
    "id": "35iKgnWG3C1q"
   },
   "source": [
    "## How to run\n",
    "\n",
    "In order to run this notebook you need to "
   ]
  },
  {
   "cell_type": "markdown",
   "metadata": {
    "id": "6GM40ygli7Q3"
   },
   "source": [
    "## Import libraries and read the dataset\n",
    "In the following we import the few libraries needed for the project and we read the dataset.\n",
    "\n",
    "We decided to read the first 2000 baskets from the dataset in order to reduce weight on memory. Our assumption is that items are uniformly distributed across the dataset, thus allowing us to have a good insight only from the given sample."
   ]
  },
  {
   "cell_type": "code",
   "execution_count": 35,
   "metadata": {
    "colab": {
     "base_uri": "https://localhost:8080/"
    },
    "executionInfo": {
     "elapsed": 292,
     "status": "ok",
     "timestamp": 1669145043831,
     "user": {
      "displayName": "Tommaso Praturlon",
      "userId": "14876307488286215212"
     },
     "user_tz": -60
    },
    "id": "zQlgKVYLlywG",
    "outputId": "df8fe523-9172-4ca3-abcf-8a2f83d92af6"
   },
   "outputs": [
    {
     "name": "stdout",
     "output_type": "stream",
     "text": [
      "Data read successfully!\n",
      "                                                   0\n",
      "0  # Directed graph (each unordered pair of nodes...\n",
      "1                     # Stanford web graph from 2002\n",
      "2                     # Nodes: 281903 Edges: 2312497\n",
      "3                             # FromNodeId\\tToNodeId\n",
      "4                                            1\\t6548\n",
      "Number of rows:  50\n"
     ]
    }
   ],
   "source": [
    "import pandas as pd\n",
    "import matplotlib.pyplot as plt\n",
    "from collections import Counter\n",
    "from itertools import combinations\n",
    "import statistics\n",
    "import math\n",
    "\n",
    "PATH_TO_DATA = \"../data/web-Stanford.txt\"\n",
    "df_graphs = pd.read_csv(PATH_TO_DATA, header=None)\n",
    "print(\"Data read successfully!\")\n",
    "\n",
    "# Reduce dataset size for computation overload (temporary)\n",
    "df_graphs = df_graphs.iloc[0:50]\n",
    "print(df_graphs.head())\n",
    "print(\"Number of rows: \", len(df_graphs))"
   ]
  },
  {
   "cell_type": "code",
   "execution_count": 113,
   "metadata": {},
   "outputs": [
    {
     "name": "stdout",
     "output_type": "stream",
     "text": [
      "[[1, 15409], [6548, 57031], [15409, 13102], [2, 17794], [2, 25202], [2, 53625], [2, 54582], [2, 64930], [2, 73764], [2, 84477], [2, 98628], [2, 100193], [2, 102355], [2, 105318], [2, 105730], [2, 115926], [2, 140864], [2, 163550], [2, 164599], [2, 175799], [2, 178642], [2, 181714], [2, 190453], [2, 204189], [2, 204604], [2, 210870], [2, 213966], [2, 225119], [2, 241596], [2, 243294], [2, 246897], [2, 251658], [2, 252915], [2, 280935], [252915, 2], [246897, 2], [246897, 78056], [251658, 2], [280935, 2], [213966, 2], [213966, 47149], [243294, 2], [225119, 2], [241596, 2], [178642, 2]]\n"
     ]
    }
   ],
   "source": [
    "# DATA WRANGLING\n",
    "# 1. remove text rows from dataset\n",
    "# 2. create a dataset of integers\n",
    "df_g = df_graphs.drop([0, 1, 2, 3, 4])\n",
    "data = []\n",
    "for i in range(len(df_g)):\n",
    "    s = [int(x) for x in str(df_g.iloc[i][0]).split('\\t')]\n",
    "    data.append(s)\n",
    "print(data)"
   ]
  },
  {
   "cell_type": "code",
   "execution_count": null,
   "metadata": {},
   "outputs": [],
   "source": [
    "####################################\n",
    "# TRIEST-BASE CLASS IMPLEMENTATION #\n",
    "####################################\n",
    "\n",
    "class TriestBase:\n",
    "    '''\n",
    "    Implementation of the Trèst-base algorithm\n",
    "    - function SampleEdge\n",
    "    - function UpdateCounter\n",
    "    - function FlipBiasedCoin\n",
    "    '''\n",
    "    \n",
    "    \n",
    "    def flipBiasedCoin(M, t):\n",
    "        '''\n",
    "        Flip a biased coin with probability M/t of falling head.\n",
    "        '''\n",
    "        # head or tail\n",
    "        # perform with random library\n",
    "        # ...\n",
    "        import numpy\n",
    "        # 1: head, 0: tail\n",
    "        result = np.random.choice([1, 0], p=[M/t, (1-M/t)])\n",
    "        \n",
    "        if result:\n",
    "            return True\n",
    "        else:\n",
    "            return False\n",
    "    \n",
    "    def sampleEdge(edge, t, M, S):\n",
    "        '''\n",
    "        Receives the edge (u,v) as [u, v] and time t at which\n",
    "        the stream element is received. t is a count integer.\n",
    "        Returns a boolean\n",
    "        '''\n",
    "        if (t <= M):\n",
    "            return True\n",
    "        elif flipBiasedCoin(M, t):\n",
    "            # select random edge from S\n",
    "            random_edge = \n",
    "            # Delete random_edge from S\n",
    "            S = \n",
    "            # Update counters\n",
    "            updateCounters('delete', random_edge)\n",
    "            return True\n",
    "        else:\n",
    "            return False\n",
    "            \n",
    "    def updateCounters(operation, edge, tau):\n",
    "        '''\n",
    "        Receives the operation insertion or deletion\n",
    "        and the edge\n",
    "        '''\n",
    "        # Define shared-neighborhood\n",
    "        N_edge = \n",
    "        if operation == 'insert':\n",
    "            # Insert\n",
    "            tau += 1\n",
    "            tau_c += 1\n",
    "            tau_u += 1\n",
    "            tau_v += 1\n",
    "        else:\n",
    "            # Delete\n",
    "            tau -= 1\n",
    "            tau_c -= 1\n",
    "            tau_u -= 1\n",
    "            tau_v -= 1"
   ]
  },
  {
   "cell_type": "code",
   "execution_count": null,
   "metadata": {},
   "outputs": [],
   "source": [
    "# EXPLOITING THE CLASS TRIEST-BASE\n",
    "import TriestBase as tb\n",
    "\n",
    "S = []\n",
    "M = 6\n",
    "t = 0\n",
    "tau = 0\n",
    "\n",
    "# simulate the stream of data\n",
    "for i in range(len(data)):\n",
    "    t += 1\n",
    "    edge = data[i]\n",
    "    if tb.sampleEdge(edge, t, M):\n",
    "        S.append(edge)\n",
    "        tp.updateCounters('insert', edge, tau)\n",
    "        "
   ]
  },
  {
   "cell_type": "code",
   "execution_count": 39,
   "metadata": {
    "colab": {
     "base_uri": "https://localhost:8080/",
     "height": 279
    },
    "executionInfo": {
     "elapsed": 954,
     "status": "ok",
     "timestamp": 1669145064318,
     "user": {
      "displayName": "Tommaso Praturlon",
      "userId": "14876307488286215212"
     },
     "user_tz": -60
    },
    "id": "S2F_AwI2i7Q_",
    "outputId": "bdcf0770-93b3-485e-fbfb-a78673035ee4"
   },
   "outputs": [
    {
     "data": {
      "image/png": "[encoded data removed]",
      "text/plain": [
       "<Figure size 432x288 with 1 Axes>"
      ]
     },
     "metadata": {},
     "output_type": "display_data"
    }
   ],
   "source": [
    "import matplotlib.pyplot as plt\n",
    "from collections import Counter\n",
    "\n",
    "cnt = Counter(C_1.values())\n",
    "plt.bar(cnt.keys(), cnt.values())\n",
    "\n",
    "plt.xlabel('Frequency')\n",
    "plt.ylabel('Number of documents with that frequency')\n",
    "plt.show()"
   ]
  }
 ],
 "metadata": {
  "colab": {
   "name": "",
   "version": ""
  },
  "kernelspec": {
   "display_name": "Python 3 (ipykernel)",
   "language": "python",
   "name": "python3"
  },
  "language_info": {
   "codemirror_mode": {
    "name": "ipython",
    "version": 3
   },
   "file_extension": ".py",
   "mimetype": "text/x-python",
   "name": "python",
   "nbconvert_exporter": "python",
   "pygments_lexer": "ipython3",
   "version": "3.8.10"
  },
  "vscode": {
   "interpreter": {
    "hash": "b0fa6594d8f4cbf19f97940f81e996739fb7646882a419484c72d19e05852a7e"
   }
  }
 },
 "nbformat": 4,
 "nbformat_minor": 1
}
